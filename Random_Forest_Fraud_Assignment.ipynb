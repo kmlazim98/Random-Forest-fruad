{
  "cells": [
    {
      "cell_type": "code",
      "execution_count": null,
      "id": "a834a350",
      "metadata": {
        "scrolled": true,
        "id": "a834a350",
        "outputId": "98c0d5fb-46d7-409a-f9dc-d29e5e11938f"
      },
      "outputs": [
        {
          "data": {
            "text/html": [
              "<div>\n",
              "<style scoped>\n",
              "    .dataframe tbody tr th:only-of-type {\n",
              "        vertical-align: middle;\n",
              "    }\n",
              "\n",
              "    .dataframe tbody tr th {\n",
              "        vertical-align: top;\n",
              "    }\n",
              "\n",
              "    .dataframe thead th {\n",
              "        text-align: right;\n",
              "    }\n",
              "</style>\n",
              "<table border=\"1\" class=\"dataframe\">\n",
              "  <thead>\n",
              "    <tr style=\"text-align: right;\">\n",
              "      <th></th>\n",
              "      <th>Undergrad</th>\n",
              "      <th>Marital.Status</th>\n",
              "      <th>City.Population</th>\n",
              "      <th>Work.Experience</th>\n",
              "      <th>Urban</th>\n",
              "      <th>Taxable.Income</th>\n",
              "    </tr>\n",
              "  </thead>\n",
              "  <tbody>\n",
              "    <tr>\n",
              "      <th>0</th>\n",
              "      <td>NO</td>\n",
              "      <td>Single</td>\n",
              "      <td>50047</td>\n",
              "      <td>10</td>\n",
              "      <td>YES</td>\n",
              "      <td>Good</td>\n",
              "    </tr>\n",
              "    <tr>\n",
              "      <th>1</th>\n",
              "      <td>YES</td>\n",
              "      <td>Divorced</td>\n",
              "      <td>134075</td>\n",
              "      <td>18</td>\n",
              "      <td>YES</td>\n",
              "      <td>Good</td>\n",
              "    </tr>\n",
              "    <tr>\n",
              "      <th>2</th>\n",
              "      <td>NO</td>\n",
              "      <td>Married</td>\n",
              "      <td>160205</td>\n",
              "      <td>30</td>\n",
              "      <td>YES</td>\n",
              "      <td>Good</td>\n",
              "    </tr>\n",
              "    <tr>\n",
              "      <th>3</th>\n",
              "      <td>YES</td>\n",
              "      <td>Single</td>\n",
              "      <td>193264</td>\n",
              "      <td>15</td>\n",
              "      <td>YES</td>\n",
              "      <td>Good</td>\n",
              "    </tr>\n",
              "    <tr>\n",
              "      <th>4</th>\n",
              "      <td>NO</td>\n",
              "      <td>Married</td>\n",
              "      <td>27533</td>\n",
              "      <td>28</td>\n",
              "      <td>NO</td>\n",
              "      <td>Good</td>\n",
              "    </tr>\n",
              "    <tr>\n",
              "      <th>...</th>\n",
              "      <td>...</td>\n",
              "      <td>...</td>\n",
              "      <td>...</td>\n",
              "      <td>...</td>\n",
              "      <td>...</td>\n",
              "      <td>...</td>\n",
              "    </tr>\n",
              "    <tr>\n",
              "      <th>595</th>\n",
              "      <td>YES</td>\n",
              "      <td>Divorced</td>\n",
              "      <td>39492</td>\n",
              "      <td>7</td>\n",
              "      <td>YES</td>\n",
              "      <td>Good</td>\n",
              "    </tr>\n",
              "    <tr>\n",
              "      <th>596</th>\n",
              "      <td>YES</td>\n",
              "      <td>Divorced</td>\n",
              "      <td>55369</td>\n",
              "      <td>2</td>\n",
              "      <td>YES</td>\n",
              "      <td>Good</td>\n",
              "    </tr>\n",
              "    <tr>\n",
              "      <th>597</th>\n",
              "      <td>NO</td>\n",
              "      <td>Divorced</td>\n",
              "      <td>154058</td>\n",
              "      <td>0</td>\n",
              "      <td>YES</td>\n",
              "      <td>Good</td>\n",
              "    </tr>\n",
              "    <tr>\n",
              "      <th>598</th>\n",
              "      <td>YES</td>\n",
              "      <td>Married</td>\n",
              "      <td>180083</td>\n",
              "      <td>17</td>\n",
              "      <td>NO</td>\n",
              "      <td>Good</td>\n",
              "    </tr>\n",
              "    <tr>\n",
              "      <th>599</th>\n",
              "      <td>NO</td>\n",
              "      <td>Divorced</td>\n",
              "      <td>158137</td>\n",
              "      <td>16</td>\n",
              "      <td>NO</td>\n",
              "      <td>Good</td>\n",
              "    </tr>\n",
              "  </tbody>\n",
              "</table>\n",
              "<p>600 rows × 6 columns</p>\n",
              "</div>"
            ],
            "text/plain": [
              "    Undergrad Marital.Status  City.Population  Work.Experience Urban  \\\n",
              "0          NO         Single            50047               10   YES   \n",
              "1         YES       Divorced           134075               18   YES   \n",
              "2          NO        Married           160205               30   YES   \n",
              "3         YES         Single           193264               15   YES   \n",
              "4          NO        Married            27533               28    NO   \n",
              "..        ...            ...              ...              ...   ...   \n",
              "595       YES       Divorced            39492                7   YES   \n",
              "596       YES       Divorced            55369                2   YES   \n",
              "597        NO       Divorced           154058                0   YES   \n",
              "598       YES        Married           180083               17    NO   \n",
              "599        NO       Divorced           158137               16    NO   \n",
              "\n",
              "    Taxable.Income  \n",
              "0             Good  \n",
              "1             Good  \n",
              "2             Good  \n",
              "3             Good  \n",
              "4             Good  \n",
              "..             ...  \n",
              "595           Good  \n",
              "596           Good  \n",
              "597           Good  \n",
              "598           Good  \n",
              "599           Good  \n",
              "\n",
              "[600 rows x 6 columns]"
            ]
          },
          "execution_count": 2,
          "metadata": {},
          "output_type": "execute_result"
        }
      ],
      "source": [
        "import pandas as pd\n",
        "fraud = pd.read_csv('Fraud_check.csv')\n",
        "col = ['Undergrad','Marital.Status','City.Population','Work.Experience','Urban','Taxable.Income']\n",
        "fraud =fraud[col]\n",
        "for i in range(0,len(fraud['Urban'])):\n",
        "    if fraud.iloc[i,5] > 30000:\n",
        "        fraud.iloc[i,5] = 'Good'\n",
        "    else:\n",
        "        fraud.iloc[i,5] = 'Risky'\n",
        "fraud"
      ]
    },
    {
      "cell_type": "code",
      "execution_count": null,
      "id": "a23bd148",
      "metadata": {
        "scrolled": true,
        "id": "a23bd148",
        "outputId": "954a1159-0991-4679-8984-691cf0287b23"
      },
      "outputs": [
        {
          "data": {
            "text/html": [
              "<div>\n",
              "<style scoped>\n",
              "    .dataframe tbody tr th:only-of-type {\n",
              "        vertical-align: middle;\n",
              "    }\n",
              "\n",
              "    .dataframe tbody tr th {\n",
              "        vertical-align: top;\n",
              "    }\n",
              "\n",
              "    .dataframe thead th {\n",
              "        text-align: right;\n",
              "    }\n",
              "</style>\n",
              "<table border=\"1\" class=\"dataframe\">\n",
              "  <thead>\n",
              "    <tr style=\"text-align: right;\">\n",
              "      <th></th>\n",
              "      <th>Undergrad</th>\n",
              "      <th>Marital.Status</th>\n",
              "      <th>City.Population</th>\n",
              "      <th>Work.Experience</th>\n",
              "      <th>Urban</th>\n",
              "      <th>Taxable.Income</th>\n",
              "    </tr>\n",
              "  </thead>\n",
              "  <tbody>\n",
              "    <tr>\n",
              "      <th>0</th>\n",
              "      <td>0</td>\n",
              "      <td>0</td>\n",
              "      <td>50047</td>\n",
              "      <td>10</td>\n",
              "      <td>1</td>\n",
              "      <td>1</td>\n",
              "    </tr>\n",
              "    <tr>\n",
              "      <th>1</th>\n",
              "      <td>1</td>\n",
              "      <td>2</td>\n",
              "      <td>134075</td>\n",
              "      <td>18</td>\n",
              "      <td>1</td>\n",
              "      <td>1</td>\n",
              "    </tr>\n",
              "    <tr>\n",
              "      <th>2</th>\n",
              "      <td>0</td>\n",
              "      <td>1</td>\n",
              "      <td>160205</td>\n",
              "      <td>30</td>\n",
              "      <td>1</td>\n",
              "      <td>1</td>\n",
              "    </tr>\n",
              "    <tr>\n",
              "      <th>3</th>\n",
              "      <td>1</td>\n",
              "      <td>0</td>\n",
              "      <td>193264</td>\n",
              "      <td>15</td>\n",
              "      <td>1</td>\n",
              "      <td>1</td>\n",
              "    </tr>\n",
              "    <tr>\n",
              "      <th>4</th>\n",
              "      <td>0</td>\n",
              "      <td>1</td>\n",
              "      <td>27533</td>\n",
              "      <td>28</td>\n",
              "      <td>0</td>\n",
              "      <td>1</td>\n",
              "    </tr>\n",
              "    <tr>\n",
              "      <th>...</th>\n",
              "      <td>...</td>\n",
              "      <td>...</td>\n",
              "      <td>...</td>\n",
              "      <td>...</td>\n",
              "      <td>...</td>\n",
              "      <td>...</td>\n",
              "    </tr>\n",
              "    <tr>\n",
              "      <th>595</th>\n",
              "      <td>1</td>\n",
              "      <td>2</td>\n",
              "      <td>39492</td>\n",
              "      <td>7</td>\n",
              "      <td>1</td>\n",
              "      <td>1</td>\n",
              "    </tr>\n",
              "    <tr>\n",
              "      <th>596</th>\n",
              "      <td>1</td>\n",
              "      <td>2</td>\n",
              "      <td>55369</td>\n",
              "      <td>2</td>\n",
              "      <td>1</td>\n",
              "      <td>1</td>\n",
              "    </tr>\n",
              "    <tr>\n",
              "      <th>597</th>\n",
              "      <td>0</td>\n",
              "      <td>2</td>\n",
              "      <td>154058</td>\n",
              "      <td>0</td>\n",
              "      <td>1</td>\n",
              "      <td>1</td>\n",
              "    </tr>\n",
              "    <tr>\n",
              "      <th>598</th>\n",
              "      <td>1</td>\n",
              "      <td>1</td>\n",
              "      <td>180083</td>\n",
              "      <td>17</td>\n",
              "      <td>0</td>\n",
              "      <td>1</td>\n",
              "    </tr>\n",
              "    <tr>\n",
              "      <th>599</th>\n",
              "      <td>0</td>\n",
              "      <td>2</td>\n",
              "      <td>158137</td>\n",
              "      <td>16</td>\n",
              "      <td>0</td>\n",
              "      <td>1</td>\n",
              "    </tr>\n",
              "  </tbody>\n",
              "</table>\n",
              "<p>600 rows × 6 columns</p>\n",
              "</div>"
            ],
            "text/plain": [
              "     Undergrad  Marital.Status  City.Population  Work.Experience  Urban  \\\n",
              "0            0               0            50047               10      1   \n",
              "1            1               2           134075               18      1   \n",
              "2            0               1           160205               30      1   \n",
              "3            1               0           193264               15      1   \n",
              "4            0               1            27533               28      0   \n",
              "..         ...             ...              ...              ...    ...   \n",
              "595          1               2            39492                7      1   \n",
              "596          1               2            55369                2      1   \n",
              "597          0               2           154058                0      1   \n",
              "598          1               1           180083               17      0   \n",
              "599          0               2           158137               16      0   \n",
              "\n",
              "     Taxable.Income  \n",
              "0                 1  \n",
              "1                 1  \n",
              "2                 1  \n",
              "3                 1  \n",
              "4                 1  \n",
              "..              ...  \n",
              "595               1  \n",
              "596               1  \n",
              "597               1  \n",
              "598               1  \n",
              "599               1  \n",
              "\n",
              "[600 rows x 6 columns]"
            ]
          },
          "execution_count": 3,
          "metadata": {},
          "output_type": "execute_result"
        }
      ],
      "source": [
        "copy = fraud.copy()\n",
        "copy['Undergrad'] = copy['Undergrad'].map({'YES':1,'NO':0})\n",
        "copy['Urban'] = copy['Urban'].map({'YES':1,'NO':0})\n",
        "copy['Marital.Status'] = copy['Marital.Status'].map({'Single':0,'Married':1,'Divorced':2})\n",
        "copy['Taxable.Income'] = copy['Taxable.Income'].map({'Good':1,'Risky':0})\n",
        "copy"
      ]
    },
    {
      "cell_type": "code",
      "execution_count": null,
      "id": "8961014d",
      "metadata": {
        "scrolled": false,
        "id": "8961014d",
        "outputId": "167f1b8e-fe24-47a5-e68c-5496090f2836"
      },
      "outputs": [
        {
          "data": {
            "image/png": "[encoded data removed]",
            "text/plain": [
              "<Figure size 432x288 with 1 Axes>"
            ]
          },
          "metadata": {
            "needs_background": "light"
          },
          "output_type": "display_data"
        }
      ],
      "source": [
        "import numpy as np\n",
        "\n",
        "listt = []\n",
        "for i in np.sort(fraud['Work.Experience'].unique()):\n",
        "    x = fraud['Work.Experience'].value_counts()[i]\n",
        "    listt.append(x)\n",
        "plt.bar(np.sort(fraud['Work.Experience'].unique()),listt)\n",
        "plt.xlabel('Work Experiece')\n",
        "plt.ylabel('No. of People with good taxable income')\n",
        "plt.show()"
      ]
    },
    {
      "cell_type": "code",
      "execution_count": null,
      "id": "96835108",
      "metadata": {
        "id": "96835108",
        "outputId": "ec140f70-d175-432b-a366-59f332f63c37"
      },
      "outputs": [
        {
          "data": {
            "image/png": "[encoded data removed]",
            "text/plain": [
              "<Figure size 432x288 with 1 Axes>"
            ]
          },
          "metadata": {
            "needs_background": "light"
          },
          "output_type": "display_data"
        },
        {
          "name": "stdout",
          "output_type": "stream",
          "text": [
            "78.84615384615384 % of Undergrads have good taxable income\n",
            "79.86111111111111 % of non undergrads have good taxable income\n",
            "51.680672268907564 % of people with good taxable income are undergrads\n"
          ]
        }
      ],
      "source": [
        "import matplotlib.pyplot as plt\n",
        "\n",
        "x = ['YES','NO']\n",
        "y = fraud[fraud['Taxable.Income']=='Good']['Undergrad'].value_counts()\n",
        "percent = copy[copy['Undergrad']==1]['Taxable.Income'].sum()*100/len(copy[copy['Undergrad']==1]['Taxable.Income'])\n",
        "perc = copy[copy['Undergrad']==0]['Taxable.Income'].sum()*100/len(copy[copy['Undergrad']==0]['Taxable.Income'])\n",
        "percentage = copy[copy['Taxable.Income']==1]['Undergrad'].sum()*100/len(copy[copy['Taxable.Income']==1]['Undergrad'])\n",
        "plt.bar(x,y,)\n",
        "plt.show()\n",
        "print(percent,'% of Undergrads have good taxable income')\n",
        "print(perc,'% of non undergrads have good taxable income')\n",
        "print(percentage,'% of people with good taxable income are undergrads')"
      ]
    },
    {
      "cell_type": "code",
      "execution_count": null,
      "id": "70e16cc6",
      "metadata": {
        "scrolled": true,
        "id": "70e16cc6",
        "outputId": "d22683d9-9290-4a20-c70a-2d7b2cb6766b"
      },
      "outputs": [
        {
          "data": {
            "image/png": "[encoded data removed]",
            "text/plain": [
              "<Figure size 432x288 with 1 Axes>"
            ]
          },
          "metadata": {
            "needs_background": "light"
          },
          "output_type": "display_data"
        },
        {
          "name": "stdout",
          "output_type": "stream",
          "text": [
            "79.13907284768212 % of Urban population have good taxable income\n",
            "79.53020134228188 % of non urban population have good taxable income\n",
            "50.21008403361345 % of people with good taxable income are from Urban area\n"
          ]
        }
      ],
      "source": [
        "import matplotlib.pyplot as plt\n",
        "\n",
        "x = fraud[fraud['Taxable.Income']=='Good']['Urban'].unique()\n",
        "y = fraud[fraud['Taxable.Income']=='Good']['Urban'].value_counts()\n",
        "percent = copy[copy['Urban']==1]['Taxable.Income'].sum()*100/len(copy[copy['Urban']==1]['Taxable.Income'])\n",
        "perc = copy[copy['Urban']==0]['Taxable.Income'].sum()*100/len(copy[copy['Urban']==0]['Taxable.Income'])\n",
        "percentage = copy[copy['Taxable.Income']==1]['Urban'].sum()*100/len(copy[copy['Taxable.Income']==1]['Urban'])\n",
        "plt.bar(x,y)\n",
        "plt.show()\n",
        "print(percent,'% of Urban population have good taxable income')\n",
        "print(perc,'% of non urban population have good taxable income')\n",
        "print(percentage,'% of people with good taxable income are from Urban area')\n"
      ]
    },
    {
      "cell_type": "code",
      "execution_count": null,
      "id": "347c76f6",
      "metadata": {
        "id": "347c76f6",
        "outputId": "77e9669e-45a1-4354-b655-05d6ff516e9b"
      },
      "outputs": [
        {
          "data": {
            "image/png": "[encoded data removed]",
            "text/plain": [
              "<Figure size 432x288 with 1 Axes>"
            ]
          },
          "metadata": {
            "needs_background": "light"
          },
          "output_type": "display_data"
        },
        {
          "name": "stdout",
          "output_type": "stream",
          "text": [
            "76.80412371134021 % of divorced people have good taxable income\n",
            "80.18433179723502 % of singles have good taxable income\n",
            "80.95238095238095 % of married have good taxable income\n",
            "Single      36.554622\n",
            "Divorced    32.142857\n",
            "Married     31.302521\n",
            "Name: Marital.Status, dtype: float64\n"
          ]
        }
      ],
      "source": [
        "import matplotlib.pyplot as plt\n",
        "\n",
        "x = fraud[fraud['Taxable.Income']=='Good']['Marital.Status'].unique()\n",
        "y = fraud[fraud['Taxable.Income']=='Good']['Marital.Status'].value_counts()\n",
        "percent = copy[copy['Marital.Status']==1]['Taxable.Income'].sum()*100/len(copy[copy['Marital.Status']==1]['Taxable.Income'])\n",
        "perc = copy[copy['Marital.Status']==0]['Taxable.Income'].sum()*100/len(copy[copy['Marital.Status']==0]['Taxable.Income'])\n",
        "p = copy[copy['Marital.Status']==2]['Taxable.Income'].sum()*100/len(copy[copy['Marital.Status']==2]['Taxable.Income'])\n",
        "percentage = fraud[fraud['Taxable.Income']=='Good']['Marital.Status'].value_counts()*100/len(fraud[fraud['Taxable.Income']=='Good']['Marital.Status'])\n",
        "plt.bar(x,y)\n",
        "plt.show()\n",
        "print(percent,'% of divorced people have good taxable income')\n",
        "print(perc,'% of singles have good taxable income')\n",
        "print(p,'% of married have good taxable income')\n",
        "print(percentage)"
      ]
    },
    {
      "cell_type": "code",
      "execution_count": null,
      "id": "05b5d681",
      "metadata": {
        "id": "05b5d681"
      },
      "outputs": [],
      "source": [
        "import matplotlib.pyplot as plt\n",
        "\n",
        "x = fraud[fraud['Taxable.Income']=='Good']['Urban'].unique()\n",
        "y = fraud[fraud['Taxable.Income']=='Good']['Urban'].value_counts()\n",
        "plt.bar(x,y)\n",
        "plt.show()\n"
      ]
    },
    {
      "cell_type": "code",
      "execution_count": null,
      "id": "05c5038e",
      "metadata": {
        "id": "05c5038e"
      },
      "outputs": [],
      "source": [
        "x= copy.drop('Taxable.Income',axis = 1)\n",
        "y = copy['Taxable.Income']"
      ]
    },
    {
      "cell_type": "code",
      "execution_count": null,
      "id": "2c579174",
      "metadata": {
        "id": "2c579174"
      },
      "outputs": [],
      "source": [
        "from sklearn.model_selection import train_test_split\n",
        "xtrain,xtest,ytrain,ytest = train_test_split(x,y,test_size = 0.2)"
      ]
    },
    {
      "cell_type": "code",
      "execution_count": null,
      "id": "2e077307",
      "metadata": {
        "id": "2e077307"
      },
      "outputs": [],
      "source": [
        "from sklearn.ensemble import RandomForestClassifier as RF\n",
        "model =RF(n_jobs=4,n_estimators = 150, oob_score =True,criterion ='entropy') \n",
        "model.fit(xtrain,ytrain)\n",
        "prediction = model.predict(x)"
      ]
    },
    {
      "cell_type": "code",
      "execution_count": null,
      "id": "aaec35f1",
      "metadata": {
        "id": "aaec35f1",
        "outputId": "5aa48c13-860c-4ec3-d70e-a629d3b45e2e"
      },
      "outputs": [
        {
          "data": {
            "text/html": [
              "<div>\n",
              "<style scoped>\n",
              "    .dataframe tbody tr th:only-of-type {\n",
              "        vertical-align: middle;\n",
              "    }\n",
              "\n",
              "    .dataframe tbody tr th {\n",
              "        vertical-align: top;\n",
              "    }\n",
              "\n",
              "    .dataframe thead th {\n",
              "        text-align: right;\n",
              "    }\n",
              "</style>\n",
              "<table border=\"1\" class=\"dataframe\">\n",
              "  <thead>\n",
              "    <tr style=\"text-align: right;\">\n",
              "      <th></th>\n",
              "      <th>Undergrad</th>\n",
              "      <th>Marital.Status</th>\n",
              "      <th>City.Population</th>\n",
              "      <th>Work.Experience</th>\n",
              "      <th>Urban</th>\n",
              "      <th>Taxable.Income</th>\n",
              "      <th>prediction</th>\n",
              "    </tr>\n",
              "  </thead>\n",
              "  <tbody>\n",
              "    <tr>\n",
              "      <th>0</th>\n",
              "      <td>NO</td>\n",
              "      <td>Single</td>\n",
              "      <td>50047</td>\n",
              "      <td>10</td>\n",
              "      <td>YES</td>\n",
              "      <td>Good</td>\n",
              "      <td>Good</td>\n",
              "    </tr>\n",
              "    <tr>\n",
              "      <th>1</th>\n",
              "      <td>YES</td>\n",
              "      <td>Divorced</td>\n",
              "      <td>134075</td>\n",
              "      <td>18</td>\n",
              "      <td>YES</td>\n",
              "      <td>Good</td>\n",
              "      <td>Risky</td>\n",
              "    </tr>\n",
              "    <tr>\n",
              "      <th>2</th>\n",
              "      <td>NO</td>\n",
              "      <td>Married</td>\n",
              "      <td>160205</td>\n",
              "      <td>30</td>\n",
              "      <td>YES</td>\n",
              "      <td>Good</td>\n",
              "      <td>Good</td>\n",
              "    </tr>\n",
              "    <tr>\n",
              "      <th>3</th>\n",
              "      <td>YES</td>\n",
              "      <td>Single</td>\n",
              "      <td>193264</td>\n",
              "      <td>15</td>\n",
              "      <td>YES</td>\n",
              "      <td>Good</td>\n",
              "      <td>Good</td>\n",
              "    </tr>\n",
              "    <tr>\n",
              "      <th>4</th>\n",
              "      <td>NO</td>\n",
              "      <td>Married</td>\n",
              "      <td>27533</td>\n",
              "      <td>28</td>\n",
              "      <td>NO</td>\n",
              "      <td>Good</td>\n",
              "      <td>Good</td>\n",
              "    </tr>\n",
              "    <tr>\n",
              "      <th>...</th>\n",
              "      <td>...</td>\n",
              "      <td>...</td>\n",
              "      <td>...</td>\n",
              "      <td>...</td>\n",
              "      <td>...</td>\n",
              "      <td>...</td>\n",
              "      <td>...</td>\n",
              "    </tr>\n",
              "    <tr>\n",
              "      <th>595</th>\n",
              "      <td>YES</td>\n",
              "      <td>Divorced</td>\n",
              "      <td>39492</td>\n",
              "      <td>7</td>\n",
              "      <td>YES</td>\n",
              "      <td>Good</td>\n",
              "      <td>Good</td>\n",
              "    </tr>\n",
              "    <tr>\n",
              "      <th>596</th>\n",
              "      <td>YES</td>\n",
              "      <td>Divorced</td>\n",
              "      <td>55369</td>\n",
              "      <td>2</td>\n",
              "      <td>YES</td>\n",
              "      <td>Good</td>\n",
              "      <td>Good</td>\n",
              "    </tr>\n",
              "    <tr>\n",
              "      <th>597</th>\n",
              "      <td>NO</td>\n",
              "      <td>Divorced</td>\n",
              "      <td>154058</td>\n",
              "      <td>0</td>\n",
              "      <td>YES</td>\n",
              "      <td>Good</td>\n",
              "      <td>Good</td>\n",
              "    </tr>\n",
              "    <tr>\n",
              "      <th>598</th>\n",
              "      <td>YES</td>\n",
              "      <td>Married</td>\n",
              "      <td>180083</td>\n",
              "      <td>17</td>\n",
              "      <td>NO</td>\n",
              "      <td>Good</td>\n",
              "      <td>Good</td>\n",
              "    </tr>\n",
              "    <tr>\n",
              "      <th>599</th>\n",
              "      <td>NO</td>\n",
              "      <td>Divorced</td>\n",
              "      <td>158137</td>\n",
              "      <td>16</td>\n",
              "      <td>NO</td>\n",
              "      <td>Good</td>\n",
              "      <td>Good</td>\n",
              "    </tr>\n",
              "  </tbody>\n",
              "</table>\n",
              "<p>600 rows × 7 columns</p>\n",
              "</div>"
            ],
            "text/plain": [
              "    Undergrad Marital.Status  City.Population  Work.Experience Urban  \\\n",
              "0          NO         Single            50047               10   YES   \n",
              "1         YES       Divorced           134075               18   YES   \n",
              "2          NO        Married           160205               30   YES   \n",
              "3         YES         Single           193264               15   YES   \n",
              "4          NO        Married            27533               28    NO   \n",
              "..        ...            ...              ...              ...   ...   \n",
              "595       YES       Divorced            39492                7   YES   \n",
              "596       YES       Divorced            55369                2   YES   \n",
              "597        NO       Divorced           154058                0   YES   \n",
              "598       YES        Married           180083               17    NO   \n",
              "599        NO       Divorced           158137               16    NO   \n",
              "\n",
              "    Taxable.Income prediction  \n",
              "0             Good       Good  \n",
              "1             Good      Risky  \n",
              "2             Good       Good  \n",
              "3             Good       Good  \n",
              "4             Good       Good  \n",
              "..             ...        ...  \n",
              "595           Good       Good  \n",
              "596           Good       Good  \n",
              "597           Good       Good  \n",
              "598           Good       Good  \n",
              "599           Good       Good  \n",
              "\n",
              "[600 rows x 7 columns]"
            ]
          },
          "execution_count": 47,
          "metadata": {},
          "output_type": "execute_result"
        }
      ],
      "source": [
        "copy['prediction'] = prediction\n",
        "fraud['prediction'] = prediction\n",
        "fraud['prediction'] = fraud['prediction'].map({0:'Good',1:'Risky'})\n",
        "fraud"
      ]
    },
    {
      "cell_type": "code",
      "execution_count": null,
      "id": "ce5a9d66",
      "metadata": {
        "id": "ce5a9d66",
        "outputId": "0c609baa-caa9-4449-b0da-ca7451483610"
      },
      "outputs": [
        {
          "name": "stdout",
          "output_type": "stream",
          "text": [
            "This Model is  94.33333333333333 % efficient\n"
          ]
        }
      ],
      "source": [
        "eficay = (len(copy['Taxable.Income']) - sum(abs(copy['prediction']-copy['Taxable.Income'])))*100/len(copy['Taxable.Income'])\n",
        "print('This Model is ',eficay,'% efficient')"
      ]
    }
  ],
  "metadata": {
    "kernelspec": {
      "display_name": "Python 3 (ipykernel)",
      "language": "python",
      "name": "python3"
    },
    "language_info": {
      "codemirror_mode": {
        "name": "ipython",
        "version": 3
      },
      "file_extension": ".py",
      "mimetype": "text/x-python",
      "name": "python",
      "nbconvert_exporter": "python",
      "pygments_lexer": "ipython3",
      "version": "3.9.12"
    },
    "colab": {
      "provenance": []
    }
  },
  "nbformat": 4,
  "nbformat_minor": 5
}